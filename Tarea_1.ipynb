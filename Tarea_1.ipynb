{
  "nbformat": 4,
  "nbformat_minor": 0,
  "metadata": {
    "colab": {
      "provenance": [],
      "include_colab_link": true
    },
    "kernelspec": {
      "name": "python3",
      "display_name": "Python 3"
    },
    "language_info": {
      "name": "python"
    }
  },
  "cells": [
    {
      "cell_type": "markdown",
      "metadata": {
        "id": "view-in-github",
        "colab_type": "text"
      },
      "source": [
        "<a href=\"https://colab.research.google.com/github/AstroOlguin/Tarea-1/blob/main/Tarea_1.ipynb\" target=\"_parent\"><img src=\"https://colab.research.google.com/assets/colab-badge.svg\" alt=\"Open In Colab\"/></a>"
      ]
    },
    {
      "cell_type": "markdown",
      "source": [
        "# **CD2201-16: Ciencia de Datos en Astronomía**\n",
        "\n",
        "**Profesores:** Boris Cuevas, Paula Díaz, Danilo Sepúlveda, Francisco Urbina\n",
        "# **Tarea 1: Introducción a Numpy, Pandas y Matplotlib**\n",
        "\n",
        "El objetivo de esta tarea es repasar y aprender contenidos básicos de estas librerías que les serán útiles para el resto del curso.\n",
        "\n",
        "Recordar las instrucciones mencionadas en clases:\n",
        "1. Para hacer esta tarea tienen que hacer un fork del repositorio en sus\n",
        "cuentas de GitHub.\n",
        "2. Luego deben habilitar sus cuentas de Google Colab (cuenta Google requerida)\n",
        "3. Abrir Google Colab y seleccionar \"abrir un archivo desde GitHub\". Deben seleccionar su cuenta Github y escoger el repositorio que corresponde al fork que hicieron.\n",
        "4. Si todo sale bien, debería abrirse una copia de este notebook en su cuenta de Google Colab.\n",
        "5. Cada vez que completen un ítem, deben guardar un avance en su fork de GitHub, de modo de respaldar cada avance significativo. Usen comentarios coherentes con cada respaldo \"Sección de Numpy completada\", \"Tarea terminada\", no solamente el que pone por defecto."
      ],
      "metadata": {
        "id": "16GoZcqSj59y"
      }
    },
    {
      "cell_type": "code",
      "execution_count": 37,
      "metadata": {
        "id": "hfEl2sNqjy46"
      },
      "outputs": [],
      "source": [
        "# Antes de comenzar con la tarea debe correr esta celda para importar las librerías principales a utilizar\n",
        "import numpy as np\n",
        "import pandas as pd\n",
        "import matplotlib.pyplot as plt"
      ]
    },
    {
      "cell_type": "markdown",
      "source": [
        "## 1. Numpy (Tiempo estimado: 15 min)\n",
        "\n",
        "Una de las características principales que vuelven a Numpy tan útil son sus capacidades algebráicas, y la posibilidad de trabajar con conjuntos de datos de N dimensiones, lo que permite acelerar cálculos. Para destacar esto, a continuación se hacen una serie de ejercicios simples donde se pide que realicen las mismas operaciones usando Numpy y las listas de Python, y que luego comparen cuánto tarda cada operación.\n",
        "\n",
        "Para visualizar la velocidad de Numpy respecto a las listas de Python, deberán correr las funciones que se les pide a continuación con $\\textit{%timeit}$, de la siguiente manera:\n",
        "\n",
        "```\n",
        "%timeit nombre_funcion(parametro_1, parametro_2)\n",
        "```\n",
        "\n",
        "Esto entregará como output el tiempo medio que toma en correr la función y la desviación estándar\n"
      ],
      "metadata": {
        "id": "0NjxHVI_mP_3"
      }
    },
    {
      "cell_type": "markdown",
      "source": [
        "### Crear arreglos y listas\n",
        "A continuación debes crear un par de listas de Python y un par de arreglos de Numpy. Estos arreglos son los que se utilizarán para testear las funciones que crearás en las celdas siguientes.\n",
        "\n",
        "La primera lista debe ser una secuencia de números enteros desde 1 hasta 49. La segunda debe ir desde 101 hasta 149. Lo mismo para los arreglos."
      ],
      "metadata": {
        "id": "smHj4qfGShtj"
      }
    },
    {
      "cell_type": "code",
      "source": [
        "# Cree las listas aquí\n",
        "a_list = [x for x in range(1,50)]\n",
        "b_list =[x for x in range(101,150)]\n",
        "\n",
        "# Cree los arreglos aquí\n",
        "a_arr = np.array([x for x in range(1,50)])\n",
        "b_arr = np.array([x for x in range(101,150)])\n",
        "\n",
        "print(a_arr)\n",
        "print(a_list)\n",
        "print(b_arr)\n",
        "print(b_list)"
      ],
      "metadata": {
        "id": "BikeWkWA5t4b",
        "outputId": "4e9b6faa-ba85-4751-8614-c79a3eb69661",
        "colab": {
          "base_uri": "https://localhost:8080/"
        }
      },
      "execution_count": 2,
      "outputs": [
        {
          "output_type": "stream",
          "name": "stdout",
          "text": [
            "[ 1  2  3  4  5  6  7  8  9 10 11 12 13 14 15 16 17 18 19 20 21 22 23 24\n",
            " 25 26 27 28 29 30 31 32 33 34 35 36 37 38 39 40 41 42 43 44 45 46 47 48\n",
            " 49]\n",
            "[1, 2, 3, 4, 5, 6, 7, 8, 9, 10, 11, 12, 13, 14, 15, 16, 17, 18, 19, 20, 21, 22, 23, 24, 25, 26, 27, 28, 29, 30, 31, 32, 33, 34, 35, 36, 37, 38, 39, 40, 41, 42, 43, 44, 45, 46, 47, 48, 49]\n",
            "[101 102 103 104 105 106 107 108 109 110 111 112 113 114 115 116 117 118\n",
            " 119 120 121 122 123 124 125 126 127 128 129 130 131 132 133 134 135 136\n",
            " 137 138 139 140 141 142 143 144 145 146 147 148 149]\n",
            "[101, 102, 103, 104, 105, 106, 107, 108, 109, 110, 111, 112, 113, 114, 115, 116, 117, 118, 119, 120, 121, 122, 123, 124, 125, 126, 127, 128, 129, 130, 131, 132, 133, 134, 135, 136, 137, 138, 139, 140, 141, 142, 143, 144, 145, 146, 147, 148, 149]\n"
          ]
        }
      ]
    },
    {
      "cell_type": "markdown",
      "source": [
        "### Suma de listas de elementos\n",
        "\n",
        "* Cree la función $\\textbf{suma_listas}$, que sume 2 listas de python $a$ y $b$.\n",
        "* Cree la función $\\textbf{suma_arrays}$, que sume 2 arrays de numpy $a$ y $b$.\n",
        "* Compare la eficiencia de las 2 funciones utilizando $\\textit{%timeit}$ para cada una"
      ],
      "metadata": {
        "id": "DupO44VCnjEg"
      }
    },
    {
      "cell_type": "code",
      "source": [
        "# Cree las funciones aquí\n",
        "\n",
        "def suma_listas(a,b):\n",
        "  c = []\n",
        "  for x in range(len(a)):\n",
        "    a1 = a[x]\n",
        "    b1 = b[x]\n",
        "    c.append(a1+b1)\n",
        "  return c\n",
        "\n",
        "print(suma_listas(a_list,b_list))\n",
        "\n",
        "\n",
        "def suma_arrays(a,b):\n",
        "  return a + b\n",
        "\n",
        "print(suma_arrays(a_arr,b_arr))\n"
      ],
      "metadata": {
        "id": "yVU8xCTBniE1",
        "outputId": "183d5d2e-5911-4bf2-d1ae-c1364e02237f",
        "colab": {
          "base_uri": "https://localhost:8080/"
        }
      },
      "execution_count": 3,
      "outputs": [
        {
          "output_type": "stream",
          "name": "stdout",
          "text": [
            "[102, 104, 106, 108, 110, 112, 114, 116, 118, 120, 122, 124, 126, 128, 130, 132, 134, 136, 138, 140, 142, 144, 146, 148, 150, 152, 154, 156, 158, 160, 162, 164, 166, 168, 170, 172, 174, 176, 178, 180, 182, 184, 186, 188, 190, 192, 194, 196, 198]\n",
            "[102 104 106 108 110 112 114 116 118 120 122 124 126 128 130 132 134 136\n",
            " 138 140 142 144 146 148 150 152 154 156 158 160 162 164 166 168 170 172\n",
            " 174 176 178 180 182 184 186 188 190 192 194 196 198]\n"
          ]
        }
      ]
    },
    {
      "cell_type": "code",
      "source": [
        "# Compare el tiempo aquí\n",
        "\n",
        "%timeit suma_listas(a_list,b_list)\n",
        "\n",
        "%timeit suma_arrays(a_arr,b_arr)"
      ],
      "metadata": {
        "id": "4OPI4T88kqHQ",
        "outputId": "01c649c7-9e67-4c24-f3b1-34e7cddea20b",
        "colab": {
          "base_uri": "https://localhost:8080/"
        }
      },
      "execution_count": 4,
      "outputs": [
        {
          "output_type": "stream",
          "name": "stdout",
          "text": [
            "22.2 µs ± 4.21 µs per loop (mean ± std. dev. of 7 runs, 10000 loops each)\n",
            "1.85 µs ± 1.22 µs per loop (mean ± std. dev. of 7 runs, 1000000 loops each)\n"
          ]
        }
      ]
    },
    {
      "cell_type": "markdown",
      "source": [
        "### Multiplicación de listas de elementos\n",
        "\n",
        "* Cree la función $\\textbf{mupliply_listas}$, que multiplique 2 listas de python $a$ y $b$\n",
        "* Cree la función $\\textbf{mupliply_arrays}$, que multiplique 2 listas de python $a$ y $b$\n",
        "* Compare la eficiencia de las 2 funciones utilizando $\\textit{%timeit}$ para cada una"
      ],
      "metadata": {
        "id": "plK2_G1OsOT2"
      }
    },
    {
      "cell_type": "code",
      "source": [
        "# Cree las funciones aquí\n",
        "\n",
        "def mupliply_listas(a,b):\n",
        "  c = []\n",
        "  for x in range(len(a)):\n",
        "    a1 = a[x]\n",
        "    b1 = b[x]\n",
        "    c.append(a1*b1)\n",
        "  return c\n",
        "\n",
        "print(mupliply_listas(a_list,b_list))\n",
        "\n",
        "\n",
        "def mupliply_arrays(a,b):\n",
        "  return a * b\n",
        "\n",
        "print(mupliply_arrays(a_arr,b_arr))\n",
        "\n",
        "\n",
        "\n"
      ],
      "metadata": {
        "id": "Od2fkhtcd_Ie",
        "outputId": "343dd15e-1964-4267-96a7-2f42c7840620",
        "colab": {
          "base_uri": "https://localhost:8080/"
        }
      },
      "execution_count": 5,
      "outputs": [
        {
          "output_type": "stream",
          "name": "stdout",
          "text": [
            "[101, 204, 309, 416, 525, 636, 749, 864, 981, 1100, 1221, 1344, 1469, 1596, 1725, 1856, 1989, 2124, 2261, 2400, 2541, 2684, 2829, 2976, 3125, 3276, 3429, 3584, 3741, 3900, 4061, 4224, 4389, 4556, 4725, 4896, 5069, 5244, 5421, 5600, 5781, 5964, 6149, 6336, 6525, 6716, 6909, 7104, 7301]\n",
            "[ 101  204  309  416  525  636  749  864  981 1100 1221 1344 1469 1596\n",
            " 1725 1856 1989 2124 2261 2400 2541 2684 2829 2976 3125 3276 3429 3584\n",
            " 3741 3900 4061 4224 4389 4556 4725 4896 5069 5244 5421 5600 5781 5964\n",
            " 6149 6336 6525 6716 6909 7104 7301]\n"
          ]
        }
      ]
    },
    {
      "cell_type": "code",
      "source": [
        "# Compare el tiempo aquí\n",
        "\n",
        "\n",
        "%timeit mupliply_listas(a_list,b_list)\n",
        "\n",
        "%timeit mupliply_arrays(a_arr,b_arr)"
      ],
      "metadata": {
        "id": "Gs_6x-HHkwlp",
        "colab": {
          "base_uri": "https://localhost:8080/"
        },
        "outputId": "64d733d0-f36c-4d79-e5ed-cedb51102108"
      },
      "execution_count": 6,
      "outputs": [
        {
          "output_type": "stream",
          "name": "stdout",
          "text": [
            "11.7 µs ± 2.9 µs per loop (mean ± std. dev. of 7 runs, 100000 loops each)\n",
            "686 ns ± 8.61 ns per loop (mean ± std. dev. of 7 runs, 1000000 loops each)\n"
          ]
        }
      ]
    },
    {
      "cell_type": "markdown",
      "source": [
        "### Aplicación práctica (IMF de Salpeter)\n",
        "\n",
        "Las Funciones de Masa Inicial (IMF) son muy útil es astronomía pues nos da cuenta de un estimado del número de estrellas que se van a formar en un periodo de formación estelar a partir de un reservorio de masa M [referencia](https://es.wikipedia.org/wiki/Función_de_masa_inicial), lo que permite estudiar poblaciones estelares. En particular, si tenemos un rango de masas $[M_1, M_2]$, se puede demostrar que el número de estrellas que nacerán de un reservorio de masa $\\xi_0$ (ignorar unidades) está dada por ecuación $(1)$\n",
        "\n",
        "$$N = \\frac{\\xi_0}{1.35} (M_1^{-1.35} - M_2^{-1.35}) \\tag{1}$$\n",
        "\n",
        "Para esta prueba usted debe:\n",
        "\n",
        "* Crear un array de masas $\\textbf{lista_masas}$ que vaya desde $0.2 M_{\\odot}$ hasta $80 M_{\\odot}$, con pasos de $0.05 M_{\\odot}$. Note que para este ejercicio puede ignorar la unidad de la masa.\n",
        "* Recrear la ecuación $(1)$ como función en python. Considere $\\xi_0=1$\n",
        "* Calcular el número de estrellas que se formarán por intervalo de $\\textbf{lista_masas}$, en $[0.2, 0.25], [0.25, 0.3], [0.3, 0.35], ..., [79.9, 79.95] y [79.95, 80]$ utilizando Numpy.\n",
        "* Luego calcule el número total de estrellas formadas, es decir, sume todos los números de estrellas calculados en el punto anterior.\n"
      ],
      "metadata": {
        "id": "eUcXxyJyuZBy"
      }
    },
    {
      "cell_type": "code",
      "source": [
        "# Cree el arreglo\n",
        "lista_masas = np.arange(0.2,80.04,0.05)\n",
        "\n",
        "print(lista_masas)"
      ],
      "metadata": {
        "id": "qyKU01dsuYV6",
        "outputId": "2a188539-b763-482c-911f-70c9fef85bd9",
        "colab": {
          "base_uri": "https://localhost:8080/"
        }
      },
      "execution_count": 7,
      "outputs": [
        {
          "output_type": "stream",
          "name": "stdout",
          "text": [
            "[ 0.2   0.25  0.3  ... 79.9  79.95 80.  ]\n"
          ]
        }
      ]
    },
    {
      "cell_type": "code",
      "source": [
        "# Cree la función que se le pide\n",
        "def IMF(m1, m2):\n",
        "  e0 = 1\n",
        "  return (e0/1.35)*(m1**(-1.35) - m2**(-1.35))\n",
        "\n",
        "#Prueba\n",
        "print(IMF(2,5))"
      ],
      "metadata": {
        "id": "sZpzRClhk8DJ",
        "outputId": "9b3cd863-690b-474d-9376-28a72a5c20d2",
        "colab": {
          "base_uri": "https://localhost:8080/"
        }
      },
      "execution_count": 8,
      "outputs": [
        {
          "output_type": "stream",
          "name": "stdout",
          "text": [
            "0.20624221115803312\n"
          ]
        }
      ]
    },
    {
      "cell_type": "code",
      "source": [
        "# Haga los cálculos aquí\n",
        "\n",
        "spi= np.array([])\n",
        "print(spi)\n",
        "\n",
        "d = IMF(lista_masas[0],lista_masas[1])\n",
        "print(d)\n",
        "for l in range(np.size(lista_masas)-1):\n",
        "  a = lista_masas[l]\n",
        "  b = lista_masas[l+1]\n",
        "\n",
        "\n",
        "  x = IMF(a,b)\n",
        "\n",
        "  spi=np.append(spi,x)\n",
        "\n",
        "print(\"Estrellas por intervalo:\",spi)\n",
        "\n",
        "print(\"Total de estrellas:\", np.sum(spi))\n"
      ],
      "metadata": {
        "id": "Ov6W97KTlGLd",
        "colab": {
          "base_uri": "https://localhost:8080/"
        },
        "outputId": "bde1e8e6-0432-4c16-c03f-82e0e62386a0"
      },
      "execution_count": 9,
      "outputs": [
        {
          "output_type": "stream",
          "name": "stdout",
          "text": [
            "[]\n",
            "1.692078410281669\n",
            "Estrellas por intervalo: [1.69207841e+00 1.05018880e+00 7.07010806e-01 ... 1.69162663e-06\n",
            " 1.68914077e-06 1.68666012e-06]\n",
            "Total de estrellas: 6.503428407627911\n"
          ]
        }
      ]
    },
    {
      "cell_type": "markdown",
      "source": [
        "## 2. Pandas (Tiempo estimado 20 min)\n",
        "\n",
        "Para esta sección veremos algunas de las funciones principales que existen dentro de pandas, dando una pincelada a sus capacidades. Como recomendación, puede explorar la [documentación](lista_masas), y mirar el tutorial [10 minutes to pandas](https://pandas.pydata.org/docs/user_guide/10min.html), pero no es obligatorio para esta parte."
      ],
      "metadata": {
        "id": "dl611lJmDRTX"
      }
    },
    {
      "cell_type": "markdown",
      "source": [
        "### Creación de datos\n",
        "\n",
        "Recree el siguiente DataFrame **almacen**:\n",
        "\n",
        "\n",
        "|        | Manzana | Frutilla | Melón |\n",
        "|--------|---------|----------|-------|\n",
        "| Stock inicial  | 25      | 80       | 15    |\n",
        "| Ventas | 14      | 60       | 6     |\n"
      ],
      "metadata": {
        "id": "GNUfP72AUx6h"
      }
    },
    {
      "cell_type": "code",
      "source": [
        "cositas = {'Manzana':[25,14],'Frutilla':[80,60],\"Melón\":[15,6]}\n",
        "\n",
        "almacen = pd.DataFrame(cositas, index = ['Stock inicial','Ventas'],columns = cositas.keys())\n",
        "\n",
        "print(almacen)\n"
      ],
      "metadata": {
        "id": "XCvsQiEeUxdc",
        "colab": {
          "base_uri": "https://localhost:8080/"
        },
        "outputId": "3b8543d1-cefc-43de-bf41-2bcb4ac910b1"
      },
      "execution_count": 73,
      "outputs": [
        {
          "output_type": "stream",
          "name": "stdout",
          "text": [
            "               Manzana  Frutilla  Melón\n",
            "Stock inicial       25        80     15\n",
            "Ventas              14        60      6\n"
          ]
        }
      ]
    },
    {
      "cell_type": "markdown",
      "source": [
        "Haga ahora un inventario de la cantidad que queda por producto después de las ventas, y añada la fila **bodega** con esta información."
      ],
      "metadata": {
        "id": "IZWCQiRnYWL0"
      }
    },
    {
      "cell_type": "code",
      "source": [
        "llaves = list(cositas.keys())\n",
        "bodega={'Manzana':[],'Frutilla':[],'Melón':[]}\n",
        "\n",
        "for l in range(len(cositas)):\n",
        "  resto = almacen.iat[0,l] - almacen.iat[1,l]\n",
        "\n",
        "  bodega[llaves[l]] = [resto]\n",
        "\n",
        "almacen1 = pd.DataFrame(bodega, index = ['Bodega'],columns = bodega.keys())\n",
        "\n",
        "almacen2 = pd.concat([almacen,almacen1])\n",
        "\n",
        "print(almacen2)"
      ],
      "metadata": {
        "id": "srLlUtC_YV0U",
        "colab": {
          "base_uri": "https://localhost:8080/"
        },
        "outputId": "7f7500de-5cf0-4f0a-8b89-7db28e23144a"
      },
      "execution_count": 94,
      "outputs": [
        {
          "output_type": "stream",
          "name": "stdout",
          "text": [
            "               Manzana  Frutilla  Melón\n",
            "Stock inicial       25        80     15\n",
            "Ventas              14        60      6\n",
            "Bodega              11        20      9\n"
          ]
        }
      ]
    },
    {
      "cell_type": "markdown",
      "source": [
        "### Visualización de Tablas\n",
        "Para esta parte primero debe montar el drive, lo que permite leer archivos guardados en el mismo. Para esto debe correr la celda de abajo."
      ],
      "metadata": {
        "id": "JwETbfoCIYCp"
      }
    },
    {
      "cell_type": "code",
      "source": [
        "from google.colab import drive\n",
        "drive.mount('/content/drive')    # se le debe abrir una pestaña extra pidiendo permisos"
      ],
      "metadata": {
        "id": "RIoiTqBYbhj4",
        "colab": {
          "base_uri": "https://localhost:8080/"
        },
        "outputId": "0dd373a3-b2e2-4db9-f8ab-506d7df7be86"
      },
      "execution_count": 142,
      "outputs": [
        {
          "output_type": "stream",
          "name": "stdout",
          "text": [
            "Drive already mounted at /content/drive; to attempt to forcibly remount, call drive.mount(\"/content/drive\", force_remount=True).\n"
          ]
        }
      ]
    },
    {
      "cell_type": "markdown",
      "source": [
        "Importe el dataset (archivo **censo.csv**) utilizando la función **pd.load_csv(path)** y guárdelo como **df_censo**.\n",
        "\n",
        "En la barra de herramientas ubicada en la izquierda, puede encontrar la ruta (path) al archivo \"censo.csv\" dentro de su drive. Copie la ruta y cargue dicha base de datos en la siguiente celda como se le indica."
      ],
      "metadata": {
        "id": "EjDtd6QIOLlR"
      }
    },
    {
      "cell_type": "code",
      "source": [
        "path = '/content/drive/MyDrive/Modulos/censo.csv'\n",
        "\n",
        "df_censo = pd.read_csv(path)\n"
      ],
      "metadata": {
        "id": "DygboleXOWso"
      },
      "execution_count": 143,
      "outputs": []
    },
    {
      "cell_type": "markdown",
      "source": [
        "Con este dataset se pide hacer lo siguiente:\n",
        "\n",
        "* Vea los primeros 10 elementos de $\\textbf{df_censo}$\n",
        "* Vea las columnas del dataframe\n",
        "* Traduzca las columnas a español (manualmente).\n",
        "* Use la función $\\textbf{describe}$ para visualizar la estadística de cada columna del dataframe. ¿Ve algo que no tiene sentido?"
      ],
      "metadata": {
        "id": "WyZK8v-8ewMO"
      }
    },
    {
      "cell_type": "code",
      "source": [
        "# Agregue más celdas si es necesario\n",
        "\n",
        "print(df_censo[:10]) #Visualizar los primeros 10 elementos\n"
      ],
      "metadata": {
        "id": "OUo-XDcHewui",
        "colab": {
          "base_uri": "https://localhost:8080/"
        },
        "collapsed": true,
        "outputId": "d2a1427f-50dc-4a3d-8894-17f8b5b4d0d8"
      },
      "execution_count": 144,
      "outputs": [
        {
          "output_type": "stream",
          "name": "stdout",
          "text": [
            "                               name        city  age  n_siblings\n",
            "0      Paula_Miguel_Garcia_Gonzalez     Iquique   35           0\n",
            "1         Maria_Pedro_Jimenez_Lopez    Rancagua   49          -1\n",
            "2    Carolina_Juan_Jimenez_Gonzalez     Iquique   16           1\n",
            "3          Lucia_Marta_Jimenez_Sanz    Santiago   42           2\n",
            "4         Marta_Roberto_Garcia_Sanz  Valparaiso   12           3\n",
            "5         Roberto_Paula_Lopez_Gomez       Arica   38          -2\n",
            "6  Pedro_Valentina_Garcia_Hernandez    Santiago   40           0\n",
            "7         Sofia_Marta_Garcia_Garcia    Santiago   10           1\n",
            "8   Carolina_Eduardo_Perez_Gonzalez    Santiago   40           0\n",
            "9     Pedro_Julia_Gonzalez_Gonzalez    Santiago   55           0\n"
          ]
        }
      ]
    },
    {
      "cell_type": "code",
      "source": [
        "# Visualizar las columnas del dataframe\n",
        "\n",
        "print(df_censo.head(0)) # Aquí podemos ver los nombres de las columnas\n",
        "\n",
        "\n",
        "print(df_censo['name']) # Vemos la columna \"name\"\n",
        "print('')\n",
        "print(df_censo['city']) # Vemos la columna \"city\"\n",
        "print('')\n",
        "print(df_censo['age']) # Vemos la columna \"age\"\n",
        "print('')\n",
        "print(df_censo['n_siblings']) # Vemos la columna \"n_siblings\"\n",
        "print('')"
      ],
      "metadata": {
        "colab": {
          "base_uri": "https://localhost:8080/"
        },
        "collapsed": true,
        "id": "P-jCL3scC3wH",
        "outputId": "5575e917-0274-4e17-eaef-0fbbd1168245"
      },
      "execution_count": 145,
      "outputs": [
        {
          "output_type": "stream",
          "name": "stdout",
          "text": [
            "Empty DataFrame\n",
            "Columns: [name, city, age, n_siblings]\n",
            "Index: []\n",
            "0         Paula_Miguel_Garcia_Gonzalez\n",
            "1            Maria_Pedro_Jimenez_Lopez\n",
            "2       Carolina_Juan_Jimenez_Gonzalez\n",
            "3             Lucia_Marta_Jimenez_Sanz\n",
            "4            Marta_Roberto_Garcia_Sanz\n",
            "                     ...              \n",
            "1995     Pedro_Pedro_Martinez_Gonzalez\n",
            "1996       Miguel_Carlos_Zapata_Garcia\n",
            "1997           Diego_Diego_Zapata_Sanz\n",
            "1998         Julia_Sofia_Gonzalez_Sanz\n",
            "1999    Eduardo_Julia_Jimenez_Gonzalez\n",
            "Name: name, Length: 2000, dtype: object\n",
            "\n",
            "0          Iquique\n",
            "1         Rancagua\n",
            "2          Iquique\n",
            "3         Santiago\n",
            "4       Valparaiso\n",
            "           ...    \n",
            "1995        Curico\n",
            "1996      Santiago\n",
            "1997    Valparaiso\n",
            "1998        Curico\n",
            "1999      Santiago\n",
            "Name: city, Length: 2000, dtype: object\n",
            "\n",
            "0       35\n",
            "1       49\n",
            "2       16\n",
            "3       42\n",
            "4       12\n",
            "        ..\n",
            "1995    24\n",
            "1996    43\n",
            "1997    43\n",
            "1998    42\n",
            "1999    46\n",
            "Name: age, Length: 2000, dtype: int64\n",
            "\n",
            "0       0\n",
            "1      -1\n",
            "2       1\n",
            "3       2\n",
            "4       3\n",
            "       ..\n",
            "1995   -1\n",
            "1996    0\n",
            "1997    1\n",
            "1998    1\n",
            "1999    0\n",
            "Name: n_siblings, Length: 2000, dtype: int64\n",
            "\n"
          ]
        }
      ]
    },
    {
      "cell_type": "code",
      "source": [
        "# Traducir las columnas al español\n",
        "\n",
        "df_censo2 = df_censo.rename(columns={\"name\":\"Nombre\",\"city\":\"Ciudad\",\"age\":\"Edad\",\"n_siblings\":\"Número de Hermanos\"}) #La función"
      ],
      "metadata": {
        "collapsed": true,
        "id": "qN1BtlX-DN62"
      },
      "execution_count": 146,
      "outputs": []
    },
    {
      "cell_type": "code",
      "source": [
        "# Visualizar la estadística de cada columna del dataframe\n",
        "\n",
        "\n",
        "df_censo2[\"Nombre\"].describe() # Vemos las estadísticas de la columna \"Nombre\""
      ],
      "metadata": {
        "colab": {
          "base_uri": "https://localhost:8080/",
          "height": 210
        },
        "id": "0Ia-x0_1FR9b",
        "outputId": "6a3552ae-2297-47ab-c836-ad535ccb92ef"
      },
      "execution_count": 147,
      "outputs": [
        {
          "output_type": "execute_result",
          "data": {
            "text/plain": [
              "count                             2000\n",
              "unique                            1945\n",
              "top       Pedro_Juan_Gonzalez_Gonzalez\n",
              "freq                                 3\n",
              "Name: Nombre, dtype: object"
            ],
            "text/html": [
              "<div>\n",
              "<style scoped>\n",
              "    .dataframe tbody tr th:only-of-type {\n",
              "        vertical-align: middle;\n",
              "    }\n",
              "\n",
              "    .dataframe tbody tr th {\n",
              "        vertical-align: top;\n",
              "    }\n",
              "\n",
              "    .dataframe thead th {\n",
              "        text-align: right;\n",
              "    }\n",
              "</style>\n",
              "<table border=\"1\" class=\"dataframe\">\n",
              "  <thead>\n",
              "    <tr style=\"text-align: right;\">\n",
              "      <th></th>\n",
              "      <th>Nombre</th>\n",
              "    </tr>\n",
              "  </thead>\n",
              "  <tbody>\n",
              "    <tr>\n",
              "      <th>count</th>\n",
              "      <td>2000</td>\n",
              "    </tr>\n",
              "    <tr>\n",
              "      <th>unique</th>\n",
              "      <td>1945</td>\n",
              "    </tr>\n",
              "    <tr>\n",
              "      <th>top</th>\n",
              "      <td>Pedro_Juan_Gonzalez_Gonzalez</td>\n",
              "    </tr>\n",
              "    <tr>\n",
              "      <th>freq</th>\n",
              "      <td>3</td>\n",
              "    </tr>\n",
              "  </tbody>\n",
              "</table>\n",
              "</div><br><label><b>dtype:</b> object</label>"
            ]
          },
          "metadata": {},
          "execution_count": 147
        }
      ]
    },
    {
      "cell_type": "code",
      "source": [
        "df_censo2[\"Ciudad\"].describe() # Vemos las estadísticas de la columna \"Ciudad\""
      ],
      "metadata": {
        "colab": {
          "base_uri": "https://localhost:8080/",
          "height": 210
        },
        "id": "-17MRx8WG5aw",
        "outputId": "f990dc58-8272-44bb-b53f-8fae343c0877"
      },
      "execution_count": 148,
      "outputs": [
        {
          "output_type": "execute_result",
          "data": {
            "text/plain": [
              "count         2000\n",
              "unique          11\n",
              "top       Santiago\n",
              "freq           839\n",
              "Name: Ciudad, dtype: object"
            ],
            "text/html": [
              "<div>\n",
              "<style scoped>\n",
              "    .dataframe tbody tr th:only-of-type {\n",
              "        vertical-align: middle;\n",
              "    }\n",
              "\n",
              "    .dataframe tbody tr th {\n",
              "        vertical-align: top;\n",
              "    }\n",
              "\n",
              "    .dataframe thead th {\n",
              "        text-align: right;\n",
              "    }\n",
              "</style>\n",
              "<table border=\"1\" class=\"dataframe\">\n",
              "  <thead>\n",
              "    <tr style=\"text-align: right;\">\n",
              "      <th></th>\n",
              "      <th>Ciudad</th>\n",
              "    </tr>\n",
              "  </thead>\n",
              "  <tbody>\n",
              "    <tr>\n",
              "      <th>count</th>\n",
              "      <td>2000</td>\n",
              "    </tr>\n",
              "    <tr>\n",
              "      <th>unique</th>\n",
              "      <td>11</td>\n",
              "    </tr>\n",
              "    <tr>\n",
              "      <th>top</th>\n",
              "      <td>Santiago</td>\n",
              "    </tr>\n",
              "    <tr>\n",
              "      <th>freq</th>\n",
              "      <td>839</td>\n",
              "    </tr>\n",
              "  </tbody>\n",
              "</table>\n",
              "</div><br><label><b>dtype:</b> object</label>"
            ]
          },
          "metadata": {},
          "execution_count": 148
        }
      ]
    },
    {
      "cell_type": "code",
      "source": [
        "df_censo2[\"Edad\"].describe() # Vemos las estadísticas de la columna \"Edad\"\n"
      ],
      "metadata": {
        "colab": {
          "base_uri": "https://localhost:8080/",
          "height": 335
        },
        "id": "kupzNOi3G8yS",
        "outputId": "2fced995-eb2a-4bd9-d961-9236040d16d6"
      },
      "execution_count": 149,
      "outputs": [
        {
          "output_type": "execute_result",
          "data": {
            "text/plain": [
              "count    2000.000000\n",
              "mean       34.286500\n",
              "std        14.724158\n",
              "min       -26.000000\n",
              "25%        24.000000\n",
              "50%        34.000000\n",
              "75%        44.000000\n",
              "max        84.000000\n",
              "Name: Edad, dtype: float64"
            ],
            "text/html": [
              "<div>\n",
              "<style scoped>\n",
              "    .dataframe tbody tr th:only-of-type {\n",
              "        vertical-align: middle;\n",
              "    }\n",
              "\n",
              "    .dataframe tbody tr th {\n",
              "        vertical-align: top;\n",
              "    }\n",
              "\n",
              "    .dataframe thead th {\n",
              "        text-align: right;\n",
              "    }\n",
              "</style>\n",
              "<table border=\"1\" class=\"dataframe\">\n",
              "  <thead>\n",
              "    <tr style=\"text-align: right;\">\n",
              "      <th></th>\n",
              "      <th>Edad</th>\n",
              "    </tr>\n",
              "  </thead>\n",
              "  <tbody>\n",
              "    <tr>\n",
              "      <th>count</th>\n",
              "      <td>2000.000000</td>\n",
              "    </tr>\n",
              "    <tr>\n",
              "      <th>mean</th>\n",
              "      <td>34.286500</td>\n",
              "    </tr>\n",
              "    <tr>\n",
              "      <th>std</th>\n",
              "      <td>14.724158</td>\n",
              "    </tr>\n",
              "    <tr>\n",
              "      <th>min</th>\n",
              "      <td>-26.000000</td>\n",
              "    </tr>\n",
              "    <tr>\n",
              "      <th>25%</th>\n",
              "      <td>24.000000</td>\n",
              "    </tr>\n",
              "    <tr>\n",
              "      <th>50%</th>\n",
              "      <td>34.000000</td>\n",
              "    </tr>\n",
              "    <tr>\n",
              "      <th>75%</th>\n",
              "      <td>44.000000</td>\n",
              "    </tr>\n",
              "    <tr>\n",
              "      <th>max</th>\n",
              "      <td>84.000000</td>\n",
              "    </tr>\n",
              "  </tbody>\n",
              "</table>\n",
              "</div><br><label><b>dtype:</b> float64</label>"
            ]
          },
          "metadata": {},
          "execution_count": 149
        }
      ]
    },
    {
      "cell_type": "code",
      "source": [
        "df_censo2[\"Número de Hermanos\"].describe() # Vemos las estadísticas de la columna \"Número de Hermanos\""
      ],
      "metadata": {
        "colab": {
          "base_uri": "https://localhost:8080/",
          "height": 335
        },
        "id": "mp8-Rh3WHAeg",
        "outputId": "d7603845-0e93-41d0-c4da-1550c5aac312"
      },
      "execution_count": 150,
      "outputs": [
        {
          "output_type": "execute_result",
          "data": {
            "text/plain": [
              "count    2000.00000\n",
              "mean        0.75000\n",
              "std         1.73234\n",
              "min        -6.00000\n",
              "25%         0.00000\n",
              "50%         0.00000\n",
              "75%         2.00000\n",
              "max         7.00000\n",
              "Name: Número de Hermanos, dtype: float64"
            ],
            "text/html": [
              "<div>\n",
              "<style scoped>\n",
              "    .dataframe tbody tr th:only-of-type {\n",
              "        vertical-align: middle;\n",
              "    }\n",
              "\n",
              "    .dataframe tbody tr th {\n",
              "        vertical-align: top;\n",
              "    }\n",
              "\n",
              "    .dataframe thead th {\n",
              "        text-align: right;\n",
              "    }\n",
              "</style>\n",
              "<table border=\"1\" class=\"dataframe\">\n",
              "  <thead>\n",
              "    <tr style=\"text-align: right;\">\n",
              "      <th></th>\n",
              "      <th>Número de Hermanos</th>\n",
              "    </tr>\n",
              "  </thead>\n",
              "  <tbody>\n",
              "    <tr>\n",
              "      <th>count</th>\n",
              "      <td>2000.00000</td>\n",
              "    </tr>\n",
              "    <tr>\n",
              "      <th>mean</th>\n",
              "      <td>0.75000</td>\n",
              "    </tr>\n",
              "    <tr>\n",
              "      <th>std</th>\n",
              "      <td>1.73234</td>\n",
              "    </tr>\n",
              "    <tr>\n",
              "      <th>min</th>\n",
              "      <td>-6.00000</td>\n",
              "    </tr>\n",
              "    <tr>\n",
              "      <th>25%</th>\n",
              "      <td>0.00000</td>\n",
              "    </tr>\n",
              "    <tr>\n",
              "      <th>50%</th>\n",
              "      <td>0.00000</td>\n",
              "    </tr>\n",
              "    <tr>\n",
              "      <th>75%</th>\n",
              "      <td>2.00000</td>\n",
              "    </tr>\n",
              "    <tr>\n",
              "      <th>max</th>\n",
              "      <td>7.00000</td>\n",
              "    </tr>\n",
              "  </tbody>\n",
              "</table>\n",
              "</div><br><label><b>dtype:</b> float64</label>"
            ]
          },
          "metadata": {},
          "execution_count": 150
        }
      ]
    },
    {
      "cell_type": "markdown",
      "source": [
        "Se ven situaciones \"raras\" en las columnas de Edad y \"Numero de Hermanos\", en los cuales podemos ver elementos negativos, lo que no hace sentido siendo que alguien no puede tener edad negativa, o cantidad de hermanos negativos."
      ],
      "metadata": {
        "id": "6LpRovghHEPr"
      }
    },
    {
      "cell_type": "markdown",
      "source": [
        "### Filtar los datos\n",
        "\n",
        "Repare el dataframe siguiendo los siguientes pasos:\n",
        "\n",
        "* Descarte los elementos del dataframe donde la edad sea menor a cero.\n",
        "* Reemplace los casos en que el número de hermanos es menor a cero por cero.\n",
        "* Descarte los casos en que el mismo nombre aparezca más de una vez (use la función [drop_duplicates](https://pandas.pydata.org/docs/reference/api/pandas.DataFrame.drop_duplicates.html#pandas.DataFrame.drop_duplicates) y mantenga el primer elemento: keep = 'first').\n"
      ],
      "metadata": {
        "id": "uSvF60pZkmp0"
      }
    },
    {
      "cell_type": "code",
      "source": [
        "# Agregue más celdas si es necesario\n",
        "\n",
        "df_censo_filtr1 = df_censo2[df_censo2[\"Edad\"]>0] # Filtramos el dataFrame con la condición de que los elementos en \"Edad\" sean mayor a 0 y así descartamos los valores negativos\n",
        "\n",
        "print(df_censo_filtr1)\n",
        "\n",
        "df_censo_filtr1[\"Edad\"].describe() # Vemos las estadísticas de la columna \"Edad\" para comprobar"
      ],
      "metadata": {
        "id": "iGOSwD5tZVgw",
        "colab": {
          "base_uri": "https://localhost:8080/",
          "height": 578
        },
        "collapsed": true,
        "outputId": "0b5a42f2-1b3b-432a-cf29-0749a22ebceb"
      },
      "execution_count": 151,
      "outputs": [
        {
          "output_type": "stream",
          "name": "stdout",
          "text": [
            "                              Nombre      Ciudad  Edad  Número de Hermanos\n",
            "0       Paula_Miguel_Garcia_Gonzalez     Iquique    35                   0\n",
            "1          Maria_Pedro_Jimenez_Lopez    Rancagua    49                  -1\n",
            "2     Carolina_Juan_Jimenez_Gonzalez     Iquique    16                   1\n",
            "3           Lucia_Marta_Jimenez_Sanz    Santiago    42                   2\n",
            "4          Marta_Roberto_Garcia_Sanz  Valparaiso    12                   3\n",
            "...                              ...         ...   ...                 ...\n",
            "1995   Pedro_Pedro_Martinez_Gonzalez      Curico    24                  -1\n",
            "1996     Miguel_Carlos_Zapata_Garcia    Santiago    43                   0\n",
            "1997         Diego_Diego_Zapata_Sanz  Valparaiso    43                   1\n",
            "1998       Julia_Sofia_Gonzalez_Sanz      Curico    42                   1\n",
            "1999  Eduardo_Julia_Jimenez_Gonzalez    Santiago    46                   0\n",
            "\n",
            "[1980 rows x 4 columns]\n"
          ]
        },
        {
          "output_type": "execute_result",
          "data": {
            "text/plain": [
              "count    1980.000000\n",
              "mean       34.701010\n",
              "std        14.183469\n",
              "min         1.000000\n",
              "25%        24.000000\n",
              "50%        34.000000\n",
              "75%        44.000000\n",
              "max        84.000000\n",
              "Name: Edad, dtype: float64"
            ],
            "text/html": [
              "<div>\n",
              "<style scoped>\n",
              "    .dataframe tbody tr th:only-of-type {\n",
              "        vertical-align: middle;\n",
              "    }\n",
              "\n",
              "    .dataframe tbody tr th {\n",
              "        vertical-align: top;\n",
              "    }\n",
              "\n",
              "    .dataframe thead th {\n",
              "        text-align: right;\n",
              "    }\n",
              "</style>\n",
              "<table border=\"1\" class=\"dataframe\">\n",
              "  <thead>\n",
              "    <tr style=\"text-align: right;\">\n",
              "      <th></th>\n",
              "      <th>Edad</th>\n",
              "    </tr>\n",
              "  </thead>\n",
              "  <tbody>\n",
              "    <tr>\n",
              "      <th>count</th>\n",
              "      <td>1980.000000</td>\n",
              "    </tr>\n",
              "    <tr>\n",
              "      <th>mean</th>\n",
              "      <td>34.701010</td>\n",
              "    </tr>\n",
              "    <tr>\n",
              "      <th>std</th>\n",
              "      <td>14.183469</td>\n",
              "    </tr>\n",
              "    <tr>\n",
              "      <th>min</th>\n",
              "      <td>1.000000</td>\n",
              "    </tr>\n",
              "    <tr>\n",
              "      <th>25%</th>\n",
              "      <td>24.000000</td>\n",
              "    </tr>\n",
              "    <tr>\n",
              "      <th>50%</th>\n",
              "      <td>34.000000</td>\n",
              "    </tr>\n",
              "    <tr>\n",
              "      <th>75%</th>\n",
              "      <td>44.000000</td>\n",
              "    </tr>\n",
              "    <tr>\n",
              "      <th>max</th>\n",
              "      <td>84.000000</td>\n",
              "    </tr>\n",
              "  </tbody>\n",
              "</table>\n",
              "</div><br><label><b>dtype:</b> float64</label>"
            ]
          },
          "metadata": {},
          "execution_count": 151
        }
      ]
    },
    {
      "cell_type": "code",
      "source": [
        "df_censo_filtr1[df_censo_filtr1[\"Número de Hermanos\"] < 0] = 0 #Reemplazamos los elementos menores a 0 en la columna \"Numero de Hermanos\" por NaN usando np.nan de numpy\n"
      ],
      "metadata": {
        "colab": {
          "base_uri": "https://localhost:8080/"
        },
        "id": "2OzPgCEkK_G6",
        "outputId": "6ded3b1a-9c25-457f-d6cf-db57cdf40134"
      },
      "execution_count": 156,
      "outputs": [
        {
          "output_type": "stream",
          "name": "stderr",
          "text": [
            "<ipython-input-156-cd725a6d7549>:1: SettingWithCopyWarning: \n",
            "A value is trying to be set on a copy of a slice from a DataFrame.\n",
            "Try using .loc[row_indexer,col_indexer] = value instead\n",
            "\n",
            "See the caveats in the documentation: https://pandas.pydata.org/pandas-docs/stable/user_guide/indexing.html#returning-a-view-versus-a-copy\n",
            "  df_censo_filtr1[df_censo_filtr1[\"Número de Hermanos\"] < 0] = 0 #Reemplazamos los elementos menores a 0 en la columna \"Numero de Hermanos\" por NaN usando np.nan de numpy\n"
          ]
        }
      ]
    },
    {
      "cell_type": "code",
      "source": [
        "df_censo_filtr1[\"Número de Hermanos\"].describe() # Vemos las estadísticas de la columna \"Número de Hermanos\" para comprobar"
      ],
      "metadata": {
        "colab": {
          "base_uri": "https://localhost:8080/",
          "height": 335
        },
        "id": "b1jRxv3qMkqz",
        "outputId": "4cd2c863-cbeb-4065-9d2f-8811065850cf"
      },
      "execution_count": 158,
      "outputs": [
        {
          "output_type": "execute_result",
          "data": {
            "text/plain": [
              "count    1980.000000\n",
              "mean        1.039394\n",
              "std         1.364927\n",
              "min         0.000000\n",
              "25%         0.000000\n",
              "50%         0.000000\n",
              "75%         2.000000\n",
              "max         7.000000\n",
              "Name: Número de Hermanos, dtype: float64"
            ],
            "text/html": [
              "<div>\n",
              "<style scoped>\n",
              "    .dataframe tbody tr th:only-of-type {\n",
              "        vertical-align: middle;\n",
              "    }\n",
              "\n",
              "    .dataframe tbody tr th {\n",
              "        vertical-align: top;\n",
              "    }\n",
              "\n",
              "    .dataframe thead th {\n",
              "        text-align: right;\n",
              "    }\n",
              "</style>\n",
              "<table border=\"1\" class=\"dataframe\">\n",
              "  <thead>\n",
              "    <tr style=\"text-align: right;\">\n",
              "      <th></th>\n",
              "      <th>Número de Hermanos</th>\n",
              "    </tr>\n",
              "  </thead>\n",
              "  <tbody>\n",
              "    <tr>\n",
              "      <th>count</th>\n",
              "      <td>1980.000000</td>\n",
              "    </tr>\n",
              "    <tr>\n",
              "      <th>mean</th>\n",
              "      <td>1.039394</td>\n",
              "    </tr>\n",
              "    <tr>\n",
              "      <th>std</th>\n",
              "      <td>1.364927</td>\n",
              "    </tr>\n",
              "    <tr>\n",
              "      <th>min</th>\n",
              "      <td>0.000000</td>\n",
              "    </tr>\n",
              "    <tr>\n",
              "      <th>25%</th>\n",
              "      <td>0.000000</td>\n",
              "    </tr>\n",
              "    <tr>\n",
              "      <th>50%</th>\n",
              "      <td>0.000000</td>\n",
              "    </tr>\n",
              "    <tr>\n",
              "      <th>75%</th>\n",
              "      <td>2.000000</td>\n",
              "    </tr>\n",
              "    <tr>\n",
              "      <th>max</th>\n",
              "      <td>7.000000</td>\n",
              "    </tr>\n",
              "  </tbody>\n",
              "</table>\n",
              "</div><br><label><b>dtype:</b> float64</label>"
            ]
          },
          "metadata": {},
          "execution_count": 158
        }
      ]
    },
    {
      "cell_type": "markdown",
      "source": [
        "## 3. Matplotlib\n",
        "\n",
        "Matplotlib es la librería que nos permitirá crear todo tipo de figuras para visualizar nuestros datos ([documentación](https://matplotlib.org/stable/index.html)). A pesar de su popularidad, no posee una gran versatilidad al momento de hacer una visulización interactiva. Sin embargo,su fiabilidad y simplicidad la han hecho una de las librerías fundamentales para la ciencia de datos en Python."
      ],
      "metadata": {
        "id": "4Jrb9jj-m7gj"
      }
    },
    {
      "cell_type": "markdown",
      "source": [
        "### Visualización simple"
      ],
      "metadata": {
        "id": "Z_pmuvFyoZgH"
      }
    },
    {
      "cell_type": "markdown",
      "source": [
        "Genere un arreglo de 100 números que vayan desde 0 a 4$\\pi$."
      ],
      "metadata": {
        "id": "A2FZRiq_awSm"
      }
    },
    {
      "cell_type": "code",
      "source": [
        "x_values ="
      ],
      "metadata": {
        "id": "JOF1ur5-a5X5",
        "colab": {
          "base_uri": "https://localhost:8080/",
          "height": 106
        },
        "outputId": "cd7a1279-640b-49f8-f74c-3895730493dd"
      },
      "execution_count": 14,
      "outputs": [
        {
          "output_type": "error",
          "ename": "SyntaxError",
          "evalue": "invalid syntax (<ipython-input-14-4f700407a706>, line 1)",
          "traceback": [
            "\u001b[0;36m  File \u001b[0;32m\"<ipython-input-14-4f700407a706>\"\u001b[0;36m, line \u001b[0;32m1\u001b[0m\n\u001b[0;31m    x_values =\u001b[0m\n\u001b[0m              ^\u001b[0m\n\u001b[0;31mSyntaxError\u001b[0m\u001b[0;31m:\u001b[0m invalid syntax\n"
          ]
        }
      ]
    },
    {
      "cell_type": "markdown",
      "source": [
        "Utilizando las funciones **np.sin()** y **np.cos()** de numpy, cree la siguiente función:\n",
        "$$f(x) = 1.5[\\sin(3x+\\pi/4)+\\cos(2x)] \\tag{2}$$\n",
        "\n",
        "Luego aplique la función al arreglo generado en la celda de arriba y grafique. Haga el plot sin crear una figura, es decir solo usando el comando **plt.plot(x, y)**.\n"
      ],
      "metadata": {
        "id": "Zj45na83odkj"
      }
    },
    {
      "cell_type": "code",
      "source": [
        "# Escriba la función aquí\n",
        "def f(x):\n",
        "\n",
        "\n",
        "# Haga el plot aquí\n"
      ],
      "metadata": {
        "id": "PLLDWGg-bfw5"
      },
      "execution_count": null,
      "outputs": []
    },
    {
      "cell_type": "markdown",
      "source": [
        "Ahora incluya también en el plot la misma función  pero con un poco de ruido. Para esto simplemente debes sumar la variable **ruido** definida abajo a la función.\n",
        "\n",
        "Plotee la función ruidosa de color rojo, y en azul la función sin ruido. Incluya además una leyenda con **plt.legend()**. Ojo que para que aparezca la leyenda de la figura, en **plt.plot()** debe incluir el parámetro **label**"
      ],
      "metadata": {
        "id": "Lw99N8KXp5Fw"
      }
    },
    {
      "cell_type": "code",
      "source": [
        "np.random.seed(19680801) # por ahora ignorar esto\n",
        "ruido = 0.4*np.random.randn(len(x_values))\n",
        "\n",
        "# Línea para plotear función sin ruido\n",
        "\n",
        "\n",
        "# Línea para plotear función con ruido\n"
      ],
      "metadata": {
        "id": "4YyQHyyKcMtn"
      },
      "execution_count": null,
      "outputs": []
    },
    {
      "cell_type": "markdown",
      "source": [
        "Es una buena práctica también el siempre inicializar una figura. Esto además permite definir un tamaño al plot que se va a generar. Use **plt.figure(figsize=(size_x, size_y))** para cambiar el tamaño de la figura y recree todo lo que hizo en la celda anterior.\n"
      ],
      "metadata": {
        "id": "1m6lVwVKrcRg"
      }
    },
    {
      "cell_type": "code",
      "source": [],
      "metadata": {
        "id": "xOUYHjMorb9j"
      },
      "execution_count": null,
      "outputs": []
    },
    {
      "cell_type": "markdown",
      "source": [
        "Para estas funciones, sabemos que tiene un mayor sentido definir el eje x en función de $\\pi$ en lugar de números enteros. Haga de nuevo la figura pero ahora utilize la función **plt.xticks()** para reescribir los valores de x como múltiplos de $\\pi$. Utilice como labels la lista **xticks_labels** que ya está definida.\n",
        "\n",
        "Además, tenga en cuenta que se puede escribir texto en latex de la siguiente forma:\n",
        "```\n",
        "r'$\\pi$'\n",
        "```\n",
        "\n"
      ],
      "metadata": {
        "id": "53hjjeSOsYC9"
      }
    },
    {
      "cell_type": "code",
      "source": [
        "xticks_labels = [r'$\\pi$', r'$2\\pi$', r'$3\\pi$', r'$4\\pi$']"
      ],
      "metadata": {
        "id": "u6Fuot6TsXfR"
      },
      "execution_count": null,
      "outputs": []
    },
    {
      "cell_type": "markdown",
      "source": [
        "Como ultimo paso, agregue una grilla con **plt.grid(True)**. Además añada un título a la figura y labels en ambos ejes (x e y) que tengan sentido.\n"
      ],
      "metadata": {
        "id": "Dpx8yHarumHI"
      }
    },
    {
      "cell_type": "code",
      "source": [],
      "metadata": {
        "id": "BXkot8KC0XRl"
      },
      "execution_count": null,
      "outputs": []
    },
    {
      "cell_type": "markdown",
      "source": [
        "### Visualización distribución de estrellas\n",
        "\n",
        "El archivo **galaxy2.csv** contiene datos de la posición de estrellas sintéticas de una galaxia. Al igual que en la sección anterior, cargue los datos utilizando **pd.read_csv()**."
      ],
      "metadata": {
        "id": "8s3ZUKpnwDhp"
      }
    },
    {
      "cell_type": "code",
      "source": [
        "# Carge y abra el archivo\n"
      ],
      "metadata": {
        "id": "JxRQLctFwC48"
      },
      "execution_count": null,
      "outputs": []
    },
    {
      "cell_type": "markdown",
      "source": [
        "Vea los primeros 10 elementos del dataframe. ¿Qué tipo de información puede encontrar? Dado el nombre de las columnas, ¿en qué unidades se encuentran?\n",
        "\n",
        "**Respuesta:** responda aquí a la pregunta"
      ],
      "metadata": {
        "id": "IdcZOkvXp0MM"
      }
    },
    {
      "cell_type": "code",
      "source": [],
      "metadata": {
        "id": "chYkNHv-pvgq"
      },
      "execution_count": null,
      "outputs": []
    },
    {
      "cell_type": "markdown",
      "source": [
        "Plotee las estrellas en el plano $[x, y]$ utilizando **plt.plot()**. Para hacer esto hay que plotear solo los marcadores, esto se puede hacer con: **marker=' . ', linestyle='  '**, o simplemente con **' . '**. Recuerde agregar los labels en cada eje."
      ],
      "metadata": {
        "id": "qh1iC6G0bH5g"
      }
    },
    {
      "cell_type": "code",
      "source": [],
      "metadata": {
        "id": "-gq6Ov1ruk8d"
      },
      "execution_count": null,
      "outputs": []
    },
    {
      "cell_type": "markdown",
      "source": [
        "Se puede ver que muchas de las estrellas se extienden muy lejos de la galaxia. Para simplificar la visualización setee un **plt.xlim()** y **plt.ylim()** en el rago que considere que funcione mejor (Recomendación, como los números son muy grandes, use la notación $1eN$, con $N$ el orden de magnitud, para facilitar la escritura).\n",
        "\n",
        "Adicionalmente, cuando se trabaja con marcadores, podemos usar el parámetro **markersize** para modificar su tamaño. El plot anterior muestra con bastante claridad las estrellas que están más lejanas, pero dificulta la visualización de las regiones más centrales de la galaxia. Actualice el tamaño de los marcadores a $0.5$, de manera que sea más suave la visualización de la distribución de estrellas. Plotee además las estrellas vistas en el plano $[x, y]$, $[x, z]$, $[y, z]$.\n",
        "\n",
        "Recuerde agregar los labels en cada eje.\n",
        "\n",
        "Póngase creativo con los gráficos, defina tamaños de la figura, agregue colores, defina los tamaños de los labels, etc."
      ],
      "metadata": {
        "id": "1SabvzbeeVlJ"
      }
    },
    {
      "cell_type": "code",
      "execution_count": null,
      "metadata": {
        "id": "acf6d529-0b61-46af-a046-2cc1396cd341"
      },
      "outputs": [],
      "source": [
        "# Grafique vista en plano [x, y] aquí\n"
      ]
    },
    {
      "cell_type": "code",
      "source": [
        "# Grafique vista en plano [x, z] aquí\n"
      ],
      "metadata": {
        "id": "OIj5RXJzqQ7V"
      },
      "execution_count": null,
      "outputs": []
    },
    {
      "cell_type": "code",
      "source": [
        "# Grafique vista en plano [y, z] aquí\n"
      ],
      "metadata": {
        "id": "WhI5LenOqQog"
      },
      "execution_count": null,
      "outputs": []
    },
    {
      "cell_type": "markdown",
      "source": [
        "#### Distribuciones\n",
        "\n",
        "Calcule la distancia $r$ y ángulo $\\theta$ de cada una de las estrellas y añada estos valores a las columnas del dataframe original. Donde\n",
        "\n",
        "$r = \\sqrt{x^2 + y^2 + z^2}$\n",
        "\n",
        "$θ = \\arctan(y/x)$\n"
      ],
      "metadata": {
        "id": "WSqhyS8MiWy0"
      }
    },
    {
      "cell_type": "code",
      "execution_count": null,
      "metadata": {
        "id": "ce5f2205-ffd1-4a39-85da-65506e9c4712"
      },
      "outputs": [],
      "source": []
    },
    {
      "cell_type": "markdown",
      "source": [
        "Finalmente, visualize la distribución de $r$ y $\\theta$ con un histograma. Esto se puede contruir desde cero con matplotlib, sin embargo pandas simplifica hacer análisis como estos, permitiendo rápidamente hacer diferentes análisis estadísticos. El siguiente codigo muestra como se puede plotear un histograma a partir de un dataframe de Pandas:\n",
        "\n",
        "\n",
        "```\n",
        "dataframe.plot.hist(y=column_name, bins=n_bins)\n",
        "```\n",
        "\n",
        "Utilice una escala logarítmica en el eje vertical del histograma de la coordenada radial ($r$). Use la cantidad de bins que considere que representen bien la distribución.\n",
        "\n"
      ],
      "metadata": {
        "id": "742377hMjaG_"
      }
    },
    {
      "cell_type": "code",
      "source": [],
      "metadata": {
        "id": "pG4Z0LcijZy1"
      },
      "execution_count": null,
      "outputs": []
    }
  ]
}